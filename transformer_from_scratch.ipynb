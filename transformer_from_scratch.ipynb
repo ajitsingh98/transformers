{
  "nbformat": 4,
  "nbformat_minor": 0,
  "metadata": {
    "colab": {
      "provenance": [],
      "authorship_tag": "ABX9TyMLIkRvsmgBsccSMEl5GD/d",
      "include_colab_link": true
    },
    "kernelspec": {
      "name": "python3",
      "display_name": "Python 3"
    },
    "language_info": {
      "name": "python"
    }
  },
  "cells": [
    {
      "cell_type": "markdown",
      "metadata": {
        "id": "view-in-github",
        "colab_type": "text"
      },
      "source": [
        "<a href=\"https://colab.research.google.com/github/ajitsingh98/transformers/blob/master/transformer_from_scratch.ipynb\" target=\"_parent\"><img src=\"https://colab.research.google.com/assets/colab-badge.svg\" alt=\"Open In Colab\"/></a>"
      ]
    },
    {
      "cell_type": "markdown",
      "source": [
        "# Transformers From Scratch\n"
      ],
      "metadata": {
        "id": "8JWZQQ36nyyY"
      }
    },
    {
      "cell_type": "markdown",
      "source": [
        "## Index\n",
        "\n",
        "- Load the Data\n",
        "- Tokenization\n",
        "- Data Loader\n",
        "- Bigram Model\n",
        "- Code re-write in preparation for Transformers\n",
        "- Previous Token Averages - Building Intuition for Self Attention\n",
        "- Self attention\n",
        "- Scaling Up\n",
        "- Conclusion"
      ],
      "metadata": {
        "id": "gDqq7eaWoAFh"
      }
    },
    {
      "cell_type": "markdown",
      "source": [
        "## Load the Data"
      ],
      "metadata": {
        "id": "t64xZmXwoR7p"
      }
    },
    {
      "cell_type": "code",
      "source": [
        "!wget https://raw.githubusercontent.com/karpathy/char-rnn/master/data/tinyshakespeare/input.txt"
      ],
      "metadata": {
        "colab": {
          "base_uri": "https://localhost:8080/"
        },
        "id": "zK8DkQKpn2hO",
        "outputId": "1867feff-a580-48bd-b58d-3350be854b90"
      },
      "execution_count": 1,
      "outputs": [
        {
          "output_type": "stream",
          "name": "stdout",
          "text": [
            "--2024-01-07 17:59:41--  https://raw.githubusercontent.com/karpathy/char-rnn/master/data/tinyshakespeare/input.txt\n",
            "Resolving raw.githubusercontent.com (raw.githubusercontent.com)... 185.199.110.133, 185.199.109.133, 185.199.108.133, ...\n",
            "Connecting to raw.githubusercontent.com (raw.githubusercontent.com)|185.199.110.133|:443... connected.\n",
            "HTTP request sent, awaiting response... 200 OK\n",
            "Length: 1115394 (1.1M) [text/plain]\n",
            "Saving to: ‘input.txt’\n",
            "\n",
            "\rinput.txt             0%[                    ]       0  --.-KB/s               \rinput.txt           100%[===================>]   1.06M  --.-KB/s    in 0.01s   \n",
            "\n",
            "2024-01-07 17:59:41 (110 MB/s) - ‘input.txt’ saved [1115394/1115394]\n",
            "\n"
          ]
        }
      ]
    },
    {
      "cell_type": "code",
      "source": [
        "with open(\"input.txt\") as f:\n",
        "    text = f.read()"
      ],
      "metadata": {
        "id": "U9eYFRi3oZQz"
      },
      "execution_count": 2,
      "outputs": []
    },
    {
      "cell_type": "code",
      "source": [
        "print(f\"Total Number of Lines {len(text)}\")\n",
        "print('First 500 characters:', text[:500])"
      ],
      "metadata": {
        "colab": {
          "base_uri": "https://localhost:8080/"
        },
        "id": "fb4plWo9olTZ",
        "outputId": "c6545c5f-ceb9-4d3d-cf17-5e84ebab49e8"
      },
      "execution_count": 3,
      "outputs": [
        {
          "output_type": "stream",
          "name": "stdout",
          "text": [
            "Total Number of Lines 1115394\n",
            "First 500 characters: First Citizen:\n",
            "Before we proceed any further, hear me speak.\n",
            "\n",
            "All:\n",
            "Speak, speak.\n",
            "\n",
            "First Citizen:\n",
            "You are all resolved rather to die than to famish?\n",
            "\n",
            "All:\n",
            "Resolved. resolved.\n",
            "\n",
            "First Citizen:\n",
            "First, you know Caius Marcius is chief enemy to the people.\n",
            "\n",
            "All:\n",
            "We know't, we know't.\n",
            "\n",
            "First Citizen:\n",
            "Let us kill him, and we'll have corn at our own price.\n",
            "Is't a verdict?\n",
            "\n",
            "All:\n",
            "No more talking on't; let it be done: away, away!\n",
            "\n",
            "Second Citizen:\n",
            "One word, good citizens.\n",
            "\n",
            "First Citizen:\n",
            "We are accounted poor\n"
          ]
        }
      ]
    },
    {
      "cell_type": "markdown",
      "source": [
        "## Tokenization"
      ],
      "metadata": {
        "id": "C4qLoNtapQgT"
      }
    },
    {
      "cell_type": "code",
      "source": [
        "vocab = sorted(list(set(text)))\n",
        "vocab_size = len(vocab)\n",
        "\n",
        "print(f\"Vocab size : {vocab_size}\")\n",
        "print(f\"Vocab : {vocab}\")"
      ],
      "metadata": {
        "colab": {
          "base_uri": "https://localhost:8080/"
        },
        "id": "hw4bo7m5omIr",
        "outputId": "7786ef36-f3f8-4c75-a0d3-2008e7135502"
      },
      "execution_count": 4,
      "outputs": [
        {
          "output_type": "stream",
          "name": "stdout",
          "text": [
            "Vocab size : 65\n",
            "Vocab : ['\\n', ' ', '!', '$', '&', \"'\", ',', '-', '.', '3', ':', ';', '?', 'A', 'B', 'C', 'D', 'E', 'F', 'G', 'H', 'I', 'J', 'K', 'L', 'M', 'N', 'O', 'P', 'Q', 'R', 'S', 'T', 'U', 'V', 'W', 'X', 'Y', 'Z', 'a', 'b', 'c', 'd', 'e', 'f', 'g', 'h', 'i', 'j', 'k', 'l', 'm', 'n', 'o', 'p', 'q', 'r', 's', 't', 'u', 'v', 'w', 'x', 'y', 'z']\n"
          ]
        }
      ]
    },
    {
      "cell_type": "code",
      "source": [
        "char2idx = {char:idx for idx,char in enumerate(vocab)}\n",
        "idx2char = {idx:char for char,idx in char2idx.items()}\n",
        "\n",
        "encode = lambda x: [char2idx[char] for char in x]\n",
        "decode = lambda x: \"\".join([idx2char[idx] for idx in x])"
      ],
      "metadata": {
        "id": "RUzWAKx9x93T"
      },
      "execution_count": 5,
      "outputs": []
    },
    {
      "cell_type": "code",
      "source": [
        "print('Character to index:',char2idx)\n",
        "print('Index to character:,',idx2char)\n",
        "\n",
        "sample_text = \"Hello World!\"\n",
        "\n",
        "encoded_text = encode(sample_text) # bunch of numbers\n",
        "decoded_text = decode(encoded_text) # sample text\n",
        "\n",
        "print(f'Tokenized text : {encoded_text}')\n",
        "print(f'De-tokenized text : {decoded_text}')\n",
        "\n",
        "assert sample_text == decoded_text"
      ],
      "metadata": {
        "colab": {
          "base_uri": "https://localhost:8080/"
        },
        "id": "TRe3Td-q0H_h",
        "outputId": "4121cae6-d275-486e-aab5-0277e4b035b9"
      },
      "execution_count": 6,
      "outputs": [
        {
          "output_type": "stream",
          "name": "stdout",
          "text": [
            "Character to index: {'\\n': 0, ' ': 1, '!': 2, '$': 3, '&': 4, \"'\": 5, ',': 6, '-': 7, '.': 8, '3': 9, ':': 10, ';': 11, '?': 12, 'A': 13, 'B': 14, 'C': 15, 'D': 16, 'E': 17, 'F': 18, 'G': 19, 'H': 20, 'I': 21, 'J': 22, 'K': 23, 'L': 24, 'M': 25, 'N': 26, 'O': 27, 'P': 28, 'Q': 29, 'R': 30, 'S': 31, 'T': 32, 'U': 33, 'V': 34, 'W': 35, 'X': 36, 'Y': 37, 'Z': 38, 'a': 39, 'b': 40, 'c': 41, 'd': 42, 'e': 43, 'f': 44, 'g': 45, 'h': 46, 'i': 47, 'j': 48, 'k': 49, 'l': 50, 'm': 51, 'n': 52, 'o': 53, 'p': 54, 'q': 55, 'r': 56, 's': 57, 't': 58, 'u': 59, 'v': 60, 'w': 61, 'x': 62, 'y': 63, 'z': 64}\n",
            "Index to character:, {0: '\\n', 1: ' ', 2: '!', 3: '$', 4: '&', 5: \"'\", 6: ',', 7: '-', 8: '.', 9: '3', 10: ':', 11: ';', 12: '?', 13: 'A', 14: 'B', 15: 'C', 16: 'D', 17: 'E', 18: 'F', 19: 'G', 20: 'H', 21: 'I', 22: 'J', 23: 'K', 24: 'L', 25: 'M', 26: 'N', 27: 'O', 28: 'P', 29: 'Q', 30: 'R', 31: 'S', 32: 'T', 33: 'U', 34: 'V', 35: 'W', 36: 'X', 37: 'Y', 38: 'Z', 39: 'a', 40: 'b', 41: 'c', 42: 'd', 43: 'e', 44: 'f', 45: 'g', 46: 'h', 47: 'i', 48: 'j', 49: 'k', 50: 'l', 51: 'm', 52: 'n', 53: 'o', 54: 'p', 55: 'q', 56: 'r', 57: 's', 58: 't', 59: 'u', 60: 'v', 61: 'w', 62: 'x', 63: 'y', 64: 'z'}\n",
            "Tokenized text : [20, 43, 50, 50, 53, 1, 35, 53, 56, 50, 42, 2]\n",
            "De-tokenized text : Hello World!\n"
          ]
        }
      ]
    },
    {
      "cell_type": "code",
      "source": [
        "import torch\n",
        "encoded_text = torch.tensor(encode(text))\n",
        "print('Encoded Text shape:',encoded_text.shape, 'Encoded Text Dtype:', encoded_text.dtype)\n",
        "encoded_text"
      ],
      "metadata": {
        "colab": {
          "base_uri": "https://localhost:8080/"
        },
        "id": "ukKBiRHY0J0x",
        "outputId": "93600d15-ded5-4ff8-c1fe-41c520053743"
      },
      "execution_count": 7,
      "outputs": [
        {
          "output_type": "stream",
          "name": "stdout",
          "text": [
            "Encoded Text shape: torch.Size([1115394]) Encoded Text Dtype: torch.int64\n"
          ]
        },
        {
          "output_type": "execute_result",
          "data": {
            "text/plain": [
              "tensor([18, 47, 56,  ..., 45,  8,  0])"
            ]
          },
          "metadata": {},
          "execution_count": 7
        }
      ]
    },
    {
      "cell_type": "code",
      "source": [
        "train_split_pct = 0.9\n",
        "train_split_idx = int(len(encoded_text)*train_split_pct)\n",
        "train_split_idx"
      ],
      "metadata": {
        "id": "_L1yrVSBXTOV",
        "colab": {
          "base_uri": "https://localhost:8080/"
        },
        "outputId": "abfc95f2-2b5e-4372-abdc-12955f6ae5d2"
      },
      "execution_count": 8,
      "outputs": [
        {
          "output_type": "execute_result",
          "data": {
            "text/plain": [
              "1003854"
            ]
          },
          "metadata": {},
          "execution_count": 8
        }
      ]
    },
    {
      "cell_type": "code",
      "source": [
        "train_data = encoded_text[:train_split_idx]\n",
        "valid_data = encoded_text[train_split_idx:]\n",
        "print('Train data length:',len(train_data),'Valid data length:',len(valid_data),\n",
        "      'Train percentage:',len(train_data)/len(encoded_text))"
      ],
      "metadata": {
        "colab": {
          "base_uri": "https://localhost:8080/"
        },
        "id": "ScwfZDwZFJ60",
        "outputId": "f739d6b3-4f71-416d-a56a-6db1697920cc"
      },
      "execution_count": 9,
      "outputs": [
        {
          "output_type": "stream",
          "name": "stdout",
          "text": [
            "Train data length: 1003854 Valid data length: 111540 Train percentage: 0.8999994620734916\n"
          ]
        }
      ]
    },
    {
      "cell_type": "code",
      "source": [
        "context_length = 8\n",
        "\n",
        "for i in range(context_length):\n",
        "\n",
        "    x, y = train_data[:i+1], train_data[i+1]\n",
        "\n",
        "    print(f\"idx:{i}, x:{x}, y:{y} and decoded version of x : {decode(x.tolist())}, y : {decode(y[None].tolist())}\")"
      ],
      "metadata": {
        "colab": {
          "base_uri": "https://localhost:8080/"
        },
        "id": "HuTZk-PbVXVp",
        "outputId": "cbabfd63-59a8-45b8-8b46-68b2758d673e"
      },
      "execution_count": 17,
      "outputs": [
        {
          "output_type": "stream",
          "name": "stdout",
          "text": [
            "idx:0, x:tensor([18]), y:47 and decoded version of x : F, y : i\n",
            "idx:1, x:tensor([18, 47]), y:56 and decoded version of x : Fi, y : r\n",
            "idx:2, x:tensor([18, 47, 56]), y:57 and decoded version of x : Fir, y : s\n",
            "idx:3, x:tensor([18, 47, 56, 57]), y:58 and decoded version of x : Firs, y : t\n",
            "idx:4, x:tensor([18, 47, 56, 57, 58]), y:1 and decoded version of x : First, y :  \n",
            "idx:5, x:tensor([18, 47, 56, 57, 58,  1]), y:15 and decoded version of x : First , y : C\n",
            "idx:6, x:tensor([18, 47, 56, 57, 58,  1, 15]), y:47 and decoded version of x : First C, y : i\n",
            "idx:7, x:tensor([18, 47, 56, 57, 58,  1, 15, 47]), y:58 and decoded version of x : First Ci, y : t\n"
          ]
        }
      ]
    },
    {
      "cell_type": "code",
      "source": [
        "TORCH_SEED = 1337 #Setting a manual torch seed for reproducable results\n",
        "torch.manual_seed(TORCH_SEED) #Used to compare against @karpathy's lecture\n",
        "context_length = 8 #Maximum number of tokens used in each training sequence\n",
        "batch_size = 4 #number of batches that will be trained in parallel."
      ],
      "metadata": {
        "id": "AfYK4OQrXroC"
      },
      "execution_count": 18,
      "outputs": []
    },
    {
      "cell_type": "markdown",
      "source": [
        "## Data Loader"
      ],
      "metadata": {
        "id": "1V9YBSF-Y8il"
      }
    },
    {
      "cell_type": "code",
      "source": [
        "def get_batch(train_valid):\n",
        "\n",
        "    data = train_data if train_valid == \"train\" else valid_data\n",
        "    data_len = len(data)\n",
        "\n",
        "    print(f\"total data length : {data_len}\")\n",
        "\n",
        "    start_idx = torch.randint(high = data_len-context_length, size = (batch_size, ))\n",
        "\n",
        "    print(f\"start_idx: {start_idx}\")\n",
        "\n",
        "    x = torch.stack([data[i:i+context_length] for i in start_idx])\n",
        "    y = torch.stack([data[i+1:i+context_length+1] for i in start_idx])\n",
        "\n",
        "    return x, y"
      ],
      "metadata": {
        "id": "c_toj5urY0TO"
      },
      "execution_count": 33,
      "outputs": []
    },
    {
      "cell_type": "code",
      "source": [
        "x, y = get_batch(\"train\")\n",
        "\n",
        "print(f\"Shape of x: {x.shape}, y: {y.shape}\")\n",
        "\n",
        "print(f\"x values: {x}, \\ny values: {y}\")\n"
      ],
      "metadata": {
        "colab": {
          "base_uri": "https://localhost:8080/"
        },
        "id": "CKSPw5-vat57",
        "outputId": "0924f715-e011-4a41-b89b-862afa570d19"
      },
      "execution_count": 36,
      "outputs": [
        {
          "output_type": "stream",
          "name": "stdout",
          "text": [
            "total data length : 1003854\n",
            "start_idx: tensor([405712, 847796, 542635,  16085])\n",
            "Shape of x: torch.Size([4, 8]), y: torch.Size([4, 8])\n",
            "x values: tensor([[20, 53, 61,  1, 44, 53, 52, 42],\n",
            "        [58, 43, 56, 51, 47, 52, 43, 57],\n",
            "        [43,  1, 53, 44,  1, 58, 56, 59],\n",
            "        [43, 52,  1, 44, 56, 53, 51,  1]]), \n",
            "y values: tensor([[53, 61,  1, 44, 53, 52, 42, 50],\n",
            "        [43, 56, 51, 47, 52, 43, 57,  0],\n",
            "        [ 1, 53, 44,  1, 58, 56, 59, 43],\n",
            "        [52,  1, 44, 56, 53, 51,  1, 39]])\n"
          ]
        }
      ]
    },
    {
      "cell_type": "code",
      "source": [
        "for batch_id in range(batch_size):\n",
        "    print(f\"Batch Id {batch_id}\")\n",
        "    for sequence_idx in range(context_length):\n",
        "\n",
        "        context = x[batch_id, :sequence_idx+1]\n",
        "        target = y[batch_id, sequence_idx]\n",
        "\n",
        "        print(f\"Given context {context} the target is {target}\")"
      ],
      "metadata": {
        "colab": {
          "base_uri": "https://localhost:8080/"
        },
        "id": "rLpGnSEaa8ZG",
        "outputId": "4960cb61-ad4a-44e8-c2a8-ff0a2b98fe12"
      },
      "execution_count": 39,
      "outputs": [
        {
          "output_type": "stream",
          "name": "stdout",
          "text": [
            "Batch Id 0\n",
            "Given context tensor([20]) the target is 53\n",
            "Given context tensor([20, 53]) the target is 61\n",
            "Given context tensor([20, 53, 61]) the target is 1\n",
            "Given context tensor([20, 53, 61,  1]) the target is 44\n",
            "Given context tensor([20, 53, 61,  1, 44]) the target is 53\n",
            "Given context tensor([20, 53, 61,  1, 44, 53]) the target is 52\n",
            "Given context tensor([20, 53, 61,  1, 44, 53, 52]) the target is 42\n",
            "Given context tensor([20, 53, 61,  1, 44, 53, 52, 42]) the target is 50\n",
            "Batch Id 1\n",
            "Given context tensor([58]) the target is 43\n",
            "Given context tensor([58, 43]) the target is 56\n",
            "Given context tensor([58, 43, 56]) the target is 51\n",
            "Given context tensor([58, 43, 56, 51]) the target is 47\n",
            "Given context tensor([58, 43, 56, 51, 47]) the target is 52\n",
            "Given context tensor([58, 43, 56, 51, 47, 52]) the target is 43\n",
            "Given context tensor([58, 43, 56, 51, 47, 52, 43]) the target is 57\n",
            "Given context tensor([58, 43, 56, 51, 47, 52, 43, 57]) the target is 0\n",
            "Batch Id 2\n",
            "Given context tensor([43]) the target is 1\n",
            "Given context tensor([43,  1]) the target is 53\n",
            "Given context tensor([43,  1, 53]) the target is 44\n",
            "Given context tensor([43,  1, 53, 44]) the target is 1\n",
            "Given context tensor([43,  1, 53, 44,  1]) the target is 58\n",
            "Given context tensor([43,  1, 53, 44,  1, 58]) the target is 56\n",
            "Given context tensor([43,  1, 53, 44,  1, 58, 56]) the target is 59\n",
            "Given context tensor([43,  1, 53, 44,  1, 58, 56, 59]) the target is 43\n",
            "Batch Id 3\n",
            "Given context tensor([43]) the target is 52\n",
            "Given context tensor([43, 52]) the target is 1\n",
            "Given context tensor([43, 52,  1]) the target is 44\n",
            "Given context tensor([43, 52,  1, 44]) the target is 56\n",
            "Given context tensor([43, 52,  1, 44, 56]) the target is 53\n",
            "Given context tensor([43, 52,  1, 44, 56, 53]) the target is 51\n",
            "Given context tensor([43, 52,  1, 44, 56, 53, 51]) the target is 1\n",
            "Given context tensor([43, 52,  1, 44, 56, 53, 51,  1]) the target is 39\n"
          ]
        }
      ]
    },
    {
      "cell_type": "markdown",
      "source": [
        "## Bigram Model"
      ],
      "metadata": {
        "id": "Y-Tag6o3h_El"
      }
    },
    {
      "cell_type": "code",
      "source": [
        "import torch.nn as nn\n",
        "from torch.nn import functional as F"
      ],
      "metadata": {
        "id": "Ze73GJVlfHg2"
      },
      "execution_count": 40,
      "outputs": []
    },
    {
      "cell_type": "code",
      "source": [
        "torch.manual_seed(TORCH_SEED)\n",
        "class BigramLanguageModel(nn.Module):\n",
        "    def __init__(self, vocab_size):\n",
        "        super().__init__()\n",
        "        self.vocab_size = vocab_size\n",
        "        #Each token reads off the logits (~probabilities) from the subsequent token from the lookup table\n",
        "        self.token_embedding_table = nn.Embedding(num_embeddings=self.vocab_size, embedding_dim=self.vocab_size)\n",
        "\n",
        "    def forward(self, idx, targets):\n",
        "        #Both idx and targets are (B,T) Batch x Time array of integers\n",
        "        logits = self.token_embedding_table(idx) #(B,T,C) Batch, Time, Channel\n",
        "        return logits"
      ],
      "metadata": {
        "id": "PMD08peVieYo"
      },
      "execution_count": 41,
      "outputs": []
    },
    {
      "cell_type": "code",
      "source": [
        "bigram_model = BigramLanguageModel(vocab_size)\n",
        "\n",
        "out = bigram_model(x, y)\n",
        "\n",
        "print(f\"shape => x: {x.shape}, y: {y.shape}, out:{out.shape}\")"
      ],
      "metadata": {
        "colab": {
          "base_uri": "https://localhost:8080/"
        },
        "id": "sIpm4jeTikRc",
        "outputId": "b8488fc6-73a9-43ad-bd7b-4593357f716c"
      },
      "execution_count": 61,
      "outputs": [
        {
          "output_type": "stream",
          "name": "stdout",
          "text": [
            "shape => x: torch.Size([4, 8]), y: torch.Size([4, 8]), out:torch.Size([4, 8, 65])\n"
          ]
        }
      ]
    },
    {
      "cell_type": "markdown",
      "source": [
        "### Add loss function"
      ],
      "metadata": {
        "id": "SnmcP4WAnoSM"
      }
    },
    {
      "cell_type": "code",
      "source": [
        "class BigramLanguageModel(nn.Module):\n",
        "    def __init__(self, vocab_size):\n",
        "        super().__init__()\n",
        "        self.vocab_size = vocab_size\n",
        "        #Each token reads off the logits (~probabilities) from the subsequent token from the lookup table\n",
        "        self.token_embedding_table = nn.Embedding(num_embeddings=self.vocab_size, embedding_dim=self.vocab_size)\n",
        "\n",
        "    def forward(self, idx, targets):\n",
        "        #Both idx and targets are (B,T) Batch x Time array of integers\n",
        "        logits = self.token_embedding_table(idx) #(B,T,C) Batch, Time, Channel\n",
        "        B, T, C = logits.shape\n",
        "        logits_reshaped = logits.reshape(B*T, C)\n",
        "        targets_reshaped = targets.reshape(B*T)\n",
        "        loss = F.cross_entropy(input=logits_reshaped, target = targets_reshaped)\n",
        "\n",
        "        return logits, loss\n",
        "\n",
        "bigram_model = BigramLanguageModel(vocab_size=vocab_size)\n",
        "out,loss = bigram_model(x, y)\n",
        "print('Bigram Model Output Shapes out:',out.shape,'x:',x.shape,'y:',y.shape)\n",
        "print('The calculated loss is:',loss)\n"
      ],
      "metadata": {
        "colab": {
          "base_uri": "https://localhost:8080/"
        },
        "id": "J-F0K2uIisE0",
        "outputId": "b55be894-16d3-4805-b14e-264bf601c8e6"
      },
      "execution_count": 63,
      "outputs": [
        {
          "output_type": "stream",
          "name": "stdout",
          "text": [
            "Bigram Model Output Shapes out: torch.Size([4, 8, 65]) x: torch.Size([4, 8]) y: torch.Size([4, 8])\n",
            "The calculated loss is: tensor(4.7035, grad_fn=<NllLossBackward0>)\n"
          ]
        }
      ]
    },
    {
      "cell_type": "markdown",
      "source": [
        "### Generate Tokens"
      ],
      "metadata": {
        "id": "HfXRwnWFqVFs"
      }
    },
    {
      "cell_type": "code",
      "source": [
        "class BigramLanguageModel(nn.Module):\n",
        "    def __init__(self, vocab_size):\n",
        "        super().__init__()\n",
        "        self.vocab_size = vocab_size\n",
        "        #Each token reads off the logits (~probabilities) from the subsequent token from the lookup table\n",
        "        self.token_embedding_table = nn.Embedding(num_embeddings=self.vocab_size, embedding_dim=self.vocab_size)\n",
        "\n",
        "    def forward(self, idx, targets=None):\n",
        "        #Both idx and targets are (B,T) Batch x Time array of integers\n",
        "        logits = self.token_embedding_table(idx) #(B,T,C) Batch, Time, Channel\n",
        "        B, T, C = logits.shape\n",
        "        if targets:\n",
        "            logits_reshaped = logits.reshape(B*T, C)\n",
        "            targets_reshaped = targets.reshape(B*T)\n",
        "            loss = F.cross_entropy(input=logits_reshaped, target = targets_reshaped)\n",
        "        else:\n",
        "            loss = None\n",
        "\n",
        "        return logits, loss\n",
        "\n",
        "    def generate_tokens(self, idx, max_new_tokens):\n",
        "\n",
        "        for _ in range(max_new_tokens):\n",
        "\n",
        "\n",
        "\n",
        "bigram_model = BigramLanguageModel(vocab_size=vocab_size)\n",
        "out,loss = bigram_model(x, y)\n",
        "print('Bigram Model Output Shapes out:',out.shape,'x:',x.shape,'y:',y.shape)\n",
        "print('The calculated loss is:',loss)"
      ],
      "metadata": {
        "colab": {
          "base_uri": "https://localhost:8080/",
          "height": 140
        },
        "id": "5tOQKIGdoWiZ",
        "outputId": "75b3dd50-61f1-46e7-ee06-7630f9fba0dc"
      },
      "execution_count": 64,
      "outputs": [
        {
          "output_type": "error",
          "ename": "IndentationError",
          "evalue": "expected an indented block after 'for' statement on line 23 (<ipython-input-64-c1226e813f1f>, line 27)",
          "traceback": [
            "\u001b[0;36m  File \u001b[0;32m\"<ipython-input-64-c1226e813f1f>\"\u001b[0;36m, line \u001b[0;32m27\u001b[0m\n\u001b[0;31m    bigram_model = BigramLanguageModel(vocab_size=vocab_size)\u001b[0m\n\u001b[0m                                                             ^\u001b[0m\n\u001b[0;31mIndentationError\u001b[0m\u001b[0;31m:\u001b[0m expected an indented block after 'for' statement on line 23\n"
          ]
        }
      ]
    },
    {
      "cell_type": "code",
      "source": [],
      "metadata": {
        "id": "to2fJOYTtz2u"
      },
      "execution_count": null,
      "outputs": []
    }
  ]
}